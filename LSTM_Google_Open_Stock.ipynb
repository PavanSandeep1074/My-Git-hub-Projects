{
 "cells": [
  {
   "cell_type": "markdown",
   "id": "7dad6e16",
   "metadata": {},
   "source": [
    "# Time-Series-Forecasting By LSTM_Google_Open_Stock"
   ]
  },
  {
   "cell_type": "raw",
   "id": "43064f38",
   "metadata": {},
   "source": [
    "Learning to store information over long time intervals using recurrent backpropagation requires a very lengthy time, owing to insufficient, fading error backflow. \n",
    "To circumvent this, the researcher devised a Long Short-Term Memory (LSTM) network. \n",
    "Here in this code, I demonstrate how to use LSTMs to forecast stock open prices for a specific company.\n",
    "\n",
    "This system is built on Miniconda and Python (3.7.11). Keras(2.2.4-tf) and TensorFlow(2.1.0) are employed as deep learning platforms.\n",
    "\n",
    "Yahoo Finance is used to gather Google stock price data. The information covers the period from August 31, 2011, through August 30, 2021. \n",
    "There are a total of 2517 rows.\n",
    "\n",
    "The opening price (Open) of a company is the initial transaction price per share when the market begins on a trading day. \n",
    "In univariate time series forecasting, there is only one value used.\n",
    "\n",
    "The Open variable dataset must then be turned into a time series data set for our time series. Assume the array is [t1 t2 t3 t4 t5 t6], and two-time step will be used as input. \n",
    "Then output will be t3 for the time step of t1 and t2. The output for t2 and t3 input will be t4. As a result, the time step sets are {(t1, t2), (t2, t3), (t3, t4), (t4, t5)}, while the output set are {t3, t4, t5, t6}. \n",
    "For converting our dataset in time series, create dataset method is used. \n",
    "Three LSTM layers and one dense layer is used to create model. ReLU is used as an activation function in the first and second LSTM layers. \n",
    "Mean squared error set as loss function and Adam is set as optimizer."
   ]
  },
  {
   "cell_type": "markdown",
   "id": "9f99eb5c",
   "metadata": {},
   "source": [
    "# Importing the Libraries"
   ]
  },
  {
   "cell_type": "code",
   "execution_count": 15,
   "id": "3c1d2528",
   "metadata": {},
   "outputs": [],
   "source": [
    "import pandas as pd\n",
    "import numpy as np\n",
    "import matplotlib.pyplot as plt\n",
    "%matplotlib inline"
   ]
  },
  {
   "cell_type": "markdown",
   "id": "47413f8a",
   "metadata": {},
   "source": [
    "# Importing Data Set"
   ]
  },
  {
   "cell_type": "code",
   "execution_count": 16,
   "id": "c60caf86",
   "metadata": {},
   "outputs": [
    {
     "name": "stdout",
     "output_type": "stream",
     "text": [
      "C:\\Users\\sande\\OneDrive\\Desktop\\New folder (2)\n"
     ]
    }
   ],
   "source": [
    "import io\n",
    "%cd \"C:\\Users\\sande\\OneDrive\\Desktop\\New folder (2)\""
   ]
  },
  {
   "cell_type": "code",
   "execution_count": 17,
   "id": "c6ee5b89",
   "metadata": {},
   "outputs": [],
   "source": [
    "df=pd.read_csv('GOOG.csv')"
   ]
  },
  {
   "cell_type": "code",
   "execution_count": 18,
   "id": "2786d808",
   "metadata": {},
   "outputs": [
    {
     "data": {
      "text/html": [
       "<div>\n",
       "<style scoped>\n",
       "    .dataframe tbody tr th:only-of-type {\n",
       "        vertical-align: middle;\n",
       "    }\n",
       "\n",
       "    .dataframe tbody tr th {\n",
       "        vertical-align: top;\n",
       "    }\n",
       "\n",
       "    .dataframe thead th {\n",
       "        text-align: right;\n",
       "    }\n",
       "</style>\n",
       "<table border=\"1\" class=\"dataframe\">\n",
       "  <thead>\n",
       "    <tr style=\"text-align: right;\">\n",
       "      <th></th>\n",
       "      <th>Date</th>\n",
       "      <th>Open</th>\n",
       "      <th>High</th>\n",
       "      <th>Low</th>\n",
       "      <th>Close</th>\n",
       "      <th>Adj Close</th>\n",
       "      <th>Volume</th>\n",
       "    </tr>\n",
       "  </thead>\n",
       "  <tbody>\n",
       "    <tr>\n",
       "      <th>0</th>\n",
       "      <td>2011-08-31</td>\n",
       "      <td>271.352905</td>\n",
       "      <td>272.130005</td>\n",
       "      <td>266.999207</td>\n",
       "      <td>269.469971</td>\n",
       "      <td>269.469971</td>\n",
       "      <td>5406790</td>\n",
       "    </tr>\n",
       "    <tr>\n",
       "      <th>1</th>\n",
       "      <td>2011-09-01</td>\n",
       "      <td>269.365356</td>\n",
       "      <td>270.899597</td>\n",
       "      <td>264.618134</td>\n",
       "      <td>265.255768</td>\n",
       "      <td>265.255768</td>\n",
       "      <td>4849108</td>\n",
       "    </tr>\n",
       "    <tr>\n",
       "      <th>2</th>\n",
       "      <td>2011-09-02</td>\n",
       "      <td>261.255737</td>\n",
       "      <td>262.974304</td>\n",
       "      <td>259.392731</td>\n",
       "      <td>261.440063</td>\n",
       "      <td>261.440063</td>\n",
       "      <td>4820401</td>\n",
       "    </tr>\n",
       "    <tr>\n",
       "      <th>3</th>\n",
       "      <td>2011-09-06</td>\n",
       "      <td>254.446274</td>\n",
       "      <td>260.403931</td>\n",
       "      <td>254.296829</td>\n",
       "      <td>260.115021</td>\n",
       "      <td>260.115021</td>\n",
       "      <td>5451959</td>\n",
       "    </tr>\n",
       "    <tr>\n",
       "      <th>4</th>\n",
       "      <td>2011-09-07</td>\n",
       "      <td>264.234589</td>\n",
       "      <td>266.969330</td>\n",
       "      <td>262.715271</td>\n",
       "      <td>266.017914</td>\n",
       "      <td>266.017914</td>\n",
       "      <td>5532259</td>\n",
       "    </tr>\n",
       "  </tbody>\n",
       "</table>\n",
       "</div>"
      ],
      "text/plain": [
       "         Date        Open        High         Low       Close   Adj Close  \\\n",
       "0  2011-08-31  271.352905  272.130005  266.999207  269.469971  269.469971   \n",
       "1  2011-09-01  269.365356  270.899597  264.618134  265.255768  265.255768   \n",
       "2  2011-09-02  261.255737  262.974304  259.392731  261.440063  261.440063   \n",
       "3  2011-09-06  254.446274  260.403931  254.296829  260.115021  260.115021   \n",
       "4  2011-09-07  264.234589  266.969330  262.715271  266.017914  266.017914   \n",
       "\n",
       "    Volume  \n",
       "0  5406790  \n",
       "1  4849108  \n",
       "2  4820401  \n",
       "3  5451959  \n",
       "4  5532259  "
      ]
     },
     "execution_count": 18,
     "metadata": {},
     "output_type": "execute_result"
    }
   ],
   "source": [
    "df.head()"
   ]
  },
  {
   "cell_type": "code",
   "execution_count": 19,
   "id": "037f96af",
   "metadata": {},
   "outputs": [],
   "source": [
    "dfopen=df.reset_index()['Open']"
   ]
  },
  {
   "cell_type": "code",
   "execution_count": 20,
   "id": "e562757b",
   "metadata": {},
   "outputs": [
    {
     "data": {
      "text/plain": [
       "[<matplotlib.lines.Line2D at 0x1a26bfa76a0>]"
      ]
     },
     "execution_count": 20,
     "metadata": {},
     "output_type": "execute_result"
    },
    {
     "data": {
      "image/png": "[encoded data removed]",
      "text/plain": [
       "<Figure size 640x480 with 1 Axes>"
      ]
     },
     "metadata": {},
     "output_type": "display_data"
    }
   ],
   "source": [
    "plt.plot(dfopen)"
   ]
  },
  {
   "cell_type": "code",
   "execution_count": 21,
   "id": "2890b008",
   "metadata": {},
   "outputs": [
    {
     "data": {
      "text/plain": [
       "array([[0.01028413],\n",
       "       [0.00953411],\n",
       "       [0.00647387],\n",
       "       ...,\n",
       "       [0.98425656],\n",
       "       [0.98043763],\n",
       "       [1.        ]])"
      ]
     },
     "execution_count": 21,
     "metadata": {},
     "output_type": "execute_result"
    }
   ],
   "source": [
    "from sklearn.preprocessing import MinMaxScaler\n",
    "scaler=MinMaxScaler(feature_range=(0,1))\n",
    "dfopen=scaler.fit_transform(np.array(dfopen).reshape(-1,1))\n",
    "dfopen"
   ]
  },
  {
   "cell_type": "code",
   "execution_count": 22,
   "id": "7d159882",
   "metadata": {},
   "outputs": [],
   "source": [
    "training_size=int(len(dfopen)*0.65)\n",
    "test_size=len(dfopen)-training_size\n",
    "train_data,test_data=dfopen[0:training_size,:],dfopen[training_size:len(dfopen),:1]"
   ]
  },
  {
   "cell_type": "code",
   "execution_count": 23,
   "id": "f49a1264",
   "metadata": {},
   "outputs": [
    {
     "data": {
      "text/plain": [
       "(1635, 881)"
      ]
     },
     "execution_count": 23,
     "metadata": {},
     "output_type": "execute_result"
    }
   ],
   "source": [
    "training_size,test_size"
   ]
  },
  {
   "cell_type": "markdown",
   "id": "73deeba0",
   "metadata": {},
   "source": [
    "# convert an array of values into a dataset matrix"
   ]
  },
  {
   "cell_type": "code",
   "execution_count": 24,
   "id": "3e3bcdb3",
   "metadata": {},
   "outputs": [],
   "source": [
    "def create_dataset(dataset, time_step):\n",
    "    dataX, dataY = [], []\n",
    "    for i in range(len(dataset)-time_step-1):\n",
    "        a = dataset[i:(i+time_step), 0]   ###i=0, 0,1,2,3-----99   100 \n",
    "        dataX.append(a)\n",
    "        dataY.append(dataset[i + time_step, 0])\n",
    "    return np.array(dataX), np.array(dataY)"
   ]
  },
  {
   "cell_type": "markdown",
   "id": "9787734d",
   "metadata": {},
   "source": [
    "# reshape into X=t,t+1,t+2,t+3 and Y=t+4"
   ]
  },
  {
   "cell_type": "code",
   "execution_count": 25,
   "id": "a7cc250f",
   "metadata": {},
   "outputs": [],
   "source": [
    "time_step = 200\n",
    "X_train, y_train = create_dataset(train_data, time_step)\n",
    "X_test, ytest = create_dataset(test_data, time_step)"
   ]
  },
  {
   "cell_type": "code",
   "execution_count": 26,
   "id": "0096da6c",
   "metadata": {},
   "outputs": [
    {
     "name": "stdout",
     "output_type": "stream",
     "text": [
      "(1434, 200)\n",
      "(1434,)\n"
     ]
    },
    {
     "data": {
      "text/plain": [
       "(None, None)"
      ]
     },
     "execution_count": 26,
     "metadata": {},
     "output_type": "execute_result"
    }
   ],
   "source": [
    "print(X_train.shape), print(y_train.shape)"
   ]
  },
  {
   "cell_type": "code",
   "execution_count": 27,
   "id": "d30c1461",
   "metadata": {},
   "outputs": [
    {
     "name": "stdout",
     "output_type": "stream",
     "text": [
      "(680, 200)\n",
      "(680,)\n"
     ]
    },
    {
     "data": {
      "text/plain": [
       "(None, None)"
      ]
     },
     "execution_count": 27,
     "metadata": {},
     "output_type": "execute_result"
    }
   ],
   "source": [
    "print(X_test.shape), print(ytest.shape)"
   ]
  },
  {
   "cell_type": "markdown",
   "id": "13fb95c3",
   "metadata": {},
   "source": [
    "# reshape input to be [samples, time steps, features] which is required for LSTM"
   ]
  },
  {
   "cell_type": "code",
   "execution_count": 28,
   "id": "73b0968a",
   "metadata": {},
   "outputs": [],
   "source": [
    "\n",
    "X_train =X_train.reshape(X_train.shape[0],X_train.shape[1] , 1)\n",
    "X_test = X_test.reshape(X_test.shape[0],X_test.shape[1] , 1)"
   ]
  },
  {
   "cell_type": "markdown",
   "id": "87157d2d",
   "metadata": {},
   "source": [
    "# Create the Stacked LSTM model"
   ]
  },
  {
   "cell_type": "code",
   "execution_count": 29,
   "id": "8900d289",
   "metadata": {},
   "outputs": [],
   "source": [
    "from tensorflow.keras.models import Sequential\n",
    "from tensorflow.keras.layers import Dense\n",
    "from tensorflow.keras.layers import LSTM"
   ]
  },
  {
   "cell_type": "code",
   "execution_count": 30,
   "id": "127755ab",
   "metadata": {},
   "outputs": [],
   "source": [
    "model=Sequential()\n",
    "model.add(LSTM(50,activation=\"relu\",return_sequences=True,input_shape=(time_step,1)))\n",
    "model.add(LSTM(50,activation=\"relu\",return_sequences=True))\n",
    "model.add(LSTM(50))\n",
    "model.add(Dense(1))\n",
    "model.compile(loss='mean_squared_error',optimizer='adam')"
   ]
  },
  {
   "cell_type": "code",
   "execution_count": 31,
   "id": "dee61e88",
   "metadata": {},
   "outputs": [
    {
     "name": "stdout",
     "output_type": "stream",
     "text": [
      "Model: \"sequential\"\n",
      "_________________________________________________________________\n",
      " Layer (type)                Output Shape              Param #   \n",
      "=================================================================\n",
      " lstm (LSTM)                 (None, 200, 50)           10400     \n",
      "                                                                 \n",
      " lstm_1 (LSTM)               (None, 200, 50)           20200     \n",
      "                                                                 \n",
      " lstm_2 (LSTM)               (None, 50)                20200     \n",
      "                                                                 \n",
      " dense (Dense)               (None, 1)                 51        \n",
      "                                                                 \n",
      "=================================================================\n",
      "Total params: 50851 (198.64 KB)\n",
      "Trainable params: 50851 (198.64 KB)\n",
      "Non-trainable params: 0 (0.00 Byte)\n",
      "_________________________________________________________________\n"
     ]
    }
   ],
   "source": [
    "model.summary()"
   ]
  },
  {
   "cell_type": "code",
   "execution_count": 32,
   "id": "c205b13c",
   "metadata": {},
   "outputs": [
    {
     "name": "stdout",
     "output_type": "stream",
     "text": [
      "Epoch 1/100\n",
      "23/23 [==============================] - 16s 425ms/step - loss: 0.0066 - val_loss: 0.0278\n",
      "Epoch 2/100\n",
      "23/23 [==============================] - 8s 370ms/step - loss: 6.2540e-04 - val_loss: 0.0054\n",
      "Epoch 3/100\n",
      "23/23 [==============================] - 9s 383ms/step - loss: 1.1531e-04 - val_loss: 0.0059\n",
      "Epoch 4/100\n",
      "23/23 [==============================] - 9s 382ms/step - loss: 9.7135e-05 - val_loss: 0.0046\n",
      "Epoch 5/100\n",
      "23/23 [==============================] - 9s 383ms/step - loss: 8.9557e-05 - val_loss: 0.0039\n",
      "Epoch 6/100\n",
      "23/23 [==============================] - 9s 384ms/step - loss: 8.7806e-05 - val_loss: 0.0047\n",
      "Epoch 7/100\n",
      "23/23 [==============================] - 9s 387ms/step - loss: 9.2386e-05 - val_loss: 0.0027\n",
      "Epoch 8/100\n",
      "23/23 [==============================] - 9s 375ms/step - loss: 9.0461e-05 - val_loss: 0.0028\n",
      "Epoch 9/100\n",
      "23/23 [==============================] - 9s 375ms/step - loss: 8.7617e-05 - val_loss: 0.0038\n",
      "Epoch 10/100\n",
      "23/23 [==============================] - 9s 382ms/step - loss: 8.9325e-05 - val_loss: 0.0037\n",
      "Epoch 11/100\n",
      "23/23 [==============================] - 9s 372ms/step - loss: 8.4793e-05 - val_loss: 0.0025\n",
      "Epoch 12/100\n",
      "23/23 [==============================] - 9s 378ms/step - loss: 8.9282e-05 - val_loss: 0.0035\n",
      "Epoch 13/100\n",
      "23/23 [==============================] - 9s 378ms/step - loss: 8.9147e-05 - val_loss: 0.0026\n",
      "Epoch 14/100\n",
      "23/23 [==============================] - 9s 378ms/step - loss: 8.8990e-05 - val_loss: 0.0023\n",
      "Epoch 15/100\n",
      "23/23 [==============================] - 9s 375ms/step - loss: 8.6088e-05 - val_loss: 0.0023\n",
      "Epoch 16/100\n",
      "23/23 [==============================] - 9s 384ms/step - loss: 8.3622e-05 - val_loss: 0.0028\n",
      "Epoch 17/100\n",
      "23/23 [==============================] - 8s 370ms/step - loss: 8.3094e-05 - val_loss: 0.0022\n",
      "Epoch 18/100\n",
      "23/23 [==============================] - 8s 367ms/step - loss: 7.8581e-05 - val_loss: 0.0019\n",
      "Epoch 19/100\n",
      "23/23 [==============================] - 9s 379ms/step - loss: 7.9415e-05 - val_loss: 0.0021\n",
      "Epoch 20/100\n",
      "23/23 [==============================] - 9s 375ms/step - loss: 7.7025e-05 - val_loss: 0.0019\n",
      "Epoch 21/100\n",
      "23/23 [==============================] - 9s 376ms/step - loss: 8.0058e-05 - val_loss: 0.0017\n",
      "Epoch 22/100\n",
      "23/23 [==============================] - 8s 364ms/step - loss: 7.6107e-05 - val_loss: 0.0017\n",
      "Epoch 23/100\n",
      "23/23 [==============================] - 9s 376ms/step - loss: 8.7670e-05 - val_loss: 0.0017\n",
      "Epoch 24/100\n",
      "23/23 [==============================] - 8s 370ms/step - loss: 7.9897e-05 - val_loss: 0.0012\n",
      "Epoch 25/100\n",
      "23/23 [==============================] - 9s 387ms/step - loss: 7.8766e-05 - val_loss: 0.0018\n",
      "Epoch 26/100\n",
      "23/23 [==============================] - 9s 379ms/step - loss: 7.2682e-05 - val_loss: 0.0016\n",
      "Epoch 27/100\n",
      "23/23 [==============================] - 9s 381ms/step - loss: 7.7580e-05 - val_loss: 0.0012\n",
      "Epoch 28/100\n",
      "23/23 [==============================] - 8s 367ms/step - loss: 7.0896e-05 - val_loss: 0.0015\n",
      "Epoch 29/100\n",
      "23/23 [==============================] - 9s 381ms/step - loss: 8.4618e-05 - val_loss: 9.4214e-04\n",
      "Epoch 30/100\n",
      "23/23 [==============================] - 8s 370ms/step - loss: 7.2783e-05 - val_loss: 9.2290e-04\n",
      "Epoch 31/100\n",
      "23/23 [==============================] - 9s 377ms/step - loss: 7.1599e-05 - val_loss: 9.7563e-04\n",
      "Epoch 32/100\n",
      "23/23 [==============================] - 8s 368ms/step - loss: 7.3432e-05 - val_loss: 0.0012\n",
      "Epoch 33/100\n",
      "23/23 [==============================] - 9s 376ms/step - loss: 6.8179e-05 - val_loss: 8.4293e-04\n",
      "Epoch 34/100\n",
      "23/23 [==============================] - 9s 373ms/step - loss: 7.4368e-05 - val_loss: 0.0010\n",
      "Epoch 35/100\n",
      "23/23 [==============================] - 8s 370ms/step - loss: 6.8579e-05 - val_loss: 0.0013\n",
      "Epoch 36/100\n",
      "23/23 [==============================] - 8s 369ms/step - loss: 6.7325e-05 - val_loss: 9.0351e-04\n",
      "Epoch 37/100\n",
      "23/23 [==============================] - 8s 370ms/step - loss: 7.4149e-05 - val_loss: 9.8217e-04\n",
      "Epoch 38/100\n",
      "23/23 [==============================] - 9s 376ms/step - loss: 9.0264e-05 - val_loss: 0.0013\n",
      "Epoch 39/100\n",
      "23/23 [==============================] - 8s 366ms/step - loss: 8.3343e-05 - val_loss: 7.8853e-04\n",
      "Epoch 40/100\n",
      "23/23 [==============================] - 8s 371ms/step - loss: 7.0014e-05 - val_loss: 7.8955e-04\n",
      "Epoch 41/100\n",
      "23/23 [==============================] - 8s 371ms/step - loss: 6.1525e-05 - val_loss: 6.7451e-04\n",
      "Epoch 42/100\n",
      "23/23 [==============================] - 9s 374ms/step - loss: 6.8167e-05 - val_loss: 6.7427e-04\n",
      "Epoch 43/100\n",
      "23/23 [==============================] - 8s 366ms/step - loss: 6.0433e-05 - val_loss: 6.1537e-04\n",
      "Epoch 44/100\n",
      "23/23 [==============================] - 9s 388ms/step - loss: 6.3061e-05 - val_loss: 6.1047e-04\n",
      "Epoch 45/100\n",
      "23/23 [==============================] - 8s 364ms/step - loss: 7.6566e-05 - val_loss: 8.4506e-04\n",
      "Epoch 46/100\n",
      "23/23 [==============================] - 8s 369ms/step - loss: 8.0988e-05 - val_loss: 6.9524e-04\n",
      "Epoch 47/100\n",
      "23/23 [==============================] - 8s 365ms/step - loss: 6.8553e-05 - val_loss: 6.4980e-04\n",
      "Epoch 48/100\n",
      "23/23 [==============================] - 8s 370ms/step - loss: 6.8318e-05 - val_loss: 6.0206e-04\n",
      "Epoch 49/100\n",
      "23/23 [==============================] - 8s 370ms/step - loss: 6.1503e-05 - val_loss: 6.4140e-04\n",
      "Epoch 50/100\n",
      "23/23 [==============================] - 9s 375ms/step - loss: 5.6173e-05 - val_loss: 6.6985e-04\n",
      "Epoch 51/100\n",
      "23/23 [==============================] - 9s 374ms/step - loss: 6.6401e-05 - val_loss: 7.0871e-04\n",
      "Epoch 52/100\n",
      "23/23 [==============================] - 9s 381ms/step - loss: 6.2106e-05 - val_loss: 5.2959e-04\n",
      "Epoch 53/100\n",
      "23/23 [==============================] - 9s 377ms/step - loss: 6.3927e-05 - val_loss: 7.5062e-04\n",
      "Epoch 54/100\n",
      "23/23 [==============================] - 9s 381ms/step - loss: 6.2498e-05 - val_loss: 6.1465e-04\n",
      "Epoch 55/100\n",
      "23/23 [==============================] - 9s 397ms/step - loss: 6.3178e-05 - val_loss: 4.8832e-04\n",
      "Epoch 56/100\n",
      "23/23 [==============================] - 9s 380ms/step - loss: 5.8965e-05 - val_loss: 5.4215e-04\n",
      "Epoch 57/100\n",
      "23/23 [==============================] - 9s 394ms/step - loss: 5.7906e-05 - val_loss: 6.0950e-04\n",
      "Epoch 58/100\n",
      "23/23 [==============================] - 9s 375ms/step - loss: 5.2791e-05 - val_loss: 5.2149e-04\n",
      "Epoch 59/100\n",
      "23/23 [==============================] - 9s 395ms/step - loss: 5.3090e-05 - val_loss: 6.2307e-04\n",
      "Epoch 60/100\n",
      "23/23 [==============================] - 9s 375ms/step - loss: 5.4496e-05 - val_loss: 5.7903e-04\n",
      "Epoch 61/100\n",
      "23/23 [==============================] - 9s 387ms/step - loss: 5.5615e-05 - val_loss: 0.0010\n",
      "Epoch 62/100\n",
      "23/23 [==============================] - 9s 386ms/step - loss: 5.6079e-05 - val_loss: 4.5889e-04\n",
      "Epoch 63/100\n",
      "23/23 [==============================] - 9s 388ms/step - loss: 5.4535e-05 - val_loss: 4.6409e-04\n",
      "Epoch 64/100\n",
      "23/23 [==============================] - 9s 396ms/step - loss: 5.7934e-05 - val_loss: 5.5555e-04\n",
      "Epoch 65/100\n",
      "23/23 [==============================] - 9s 393ms/step - loss: 5.1098e-05 - val_loss: 7.0381e-04\n",
      "Epoch 66/100\n",
      "23/23 [==============================] - 9s 390ms/step - loss: 5.1844e-05 - val_loss: 4.0038e-04\n",
      "Epoch 67/100\n",
      "23/23 [==============================] - 9s 372ms/step - loss: 5.3089e-05 - val_loss: 7.2336e-04\n",
      "Epoch 68/100\n",
      "23/23 [==============================] - 9s 390ms/step - loss: 5.4960e-05 - val_loss: 4.0034e-04\n",
      "Epoch 69/100\n",
      "23/23 [==============================] - 9s 394ms/step - loss: 5.0227e-05 - val_loss: 4.1194e-04\n",
      "Epoch 70/100\n",
      "23/23 [==============================] - 9s 400ms/step - loss: 5.2168e-05 - val_loss: 4.8347e-04\n",
      "Epoch 71/100\n",
      "23/23 [==============================] - 9s 387ms/step - loss: 8.0332e-05 - val_loss: 0.0011\n",
      "Epoch 72/100\n",
      "23/23 [==============================] - 9s 389ms/step - loss: 5.0977e-05 - val_loss: 3.7109e-04\n",
      "Epoch 73/100\n",
      "23/23 [==============================] - 9s 388ms/step - loss: 5.4659e-05 - val_loss: 4.2381e-04\n",
      "Epoch 74/100\n",
      "23/23 [==============================] - 9s 380ms/step - loss: 5.6221e-05 - val_loss: 3.5794e-04\n",
      "Epoch 75/100\n",
      "23/23 [==============================] - 9s 411ms/step - loss: 4.9403e-05 - val_loss: 5.0951e-04\n",
      "Epoch 76/100\n",
      "23/23 [==============================] - 9s 407ms/step - loss: 4.8086e-05 - val_loss: 3.4615e-04\n"
     ]
    },
    {
     "name": "stdout",
     "output_type": "stream",
     "text": [
      "Epoch 77/100\n",
      "23/23 [==============================] - 9s 413ms/step - loss: 4.7967e-05 - val_loss: 4.5415e-04\n",
      "Epoch 78/100\n",
      "23/23 [==============================] - 9s 385ms/step - loss: 4.7242e-05 - val_loss: 3.4862e-04\n",
      "Epoch 79/100\n",
      "23/23 [==============================] - 9s 385ms/step - loss: 5.6165e-05 - val_loss: 4.0801e-04\n",
      "Epoch 80/100\n",
      "23/23 [==============================] - 9s 386ms/step - loss: 5.0523e-05 - val_loss: 8.9456e-04\n",
      "Epoch 81/100\n",
      "23/23 [==============================] - 9s 380ms/step - loss: 4.5400e-05 - val_loss: 3.6221e-04\n",
      "Epoch 82/100\n",
      "23/23 [==============================] - 9s 395ms/step - loss: 4.2524e-05 - val_loss: 7.7352e-04\n",
      "Epoch 83/100\n",
      "23/23 [==============================] - 8s 368ms/step - loss: 5.4165e-05 - val_loss: 3.6980e-04\n",
      "Epoch 84/100\n",
      "23/23 [==============================] - 9s 385ms/step - loss: 5.5518e-05 - val_loss: 0.0011\n",
      "Epoch 85/100\n",
      "23/23 [==============================] - 8s 364ms/step - loss: 4.7122e-05 - val_loss: 3.0564e-04\n",
      "Epoch 86/100\n",
      "23/23 [==============================] - 9s 383ms/step - loss: 4.4144e-05 - val_loss: 5.9517e-04\n",
      "Epoch 87/100\n",
      "23/23 [==============================] - 9s 378ms/step - loss: 4.0795e-05 - val_loss: 6.3211e-04\n",
      "Epoch 88/100\n",
      "23/23 [==============================] - 9s 391ms/step - loss: 3.9838e-05 - val_loss: 8.4112e-04\n",
      "Epoch 89/100\n",
      "23/23 [==============================] - 9s 373ms/step - loss: 4.1442e-05 - val_loss: 8.4426e-04\n",
      "Epoch 90/100\n",
      "23/23 [==============================] - 9s 380ms/step - loss: 4.0100e-05 - val_loss: 5.8924e-04\n",
      "Epoch 91/100\n",
      "23/23 [==============================] - 9s 379ms/step - loss: 4.0716e-05 - val_loss: 8.3842e-04\n",
      "Epoch 92/100\n",
      "23/23 [==============================] - 9s 374ms/step - loss: 4.0475e-05 - val_loss: 0.0013\n",
      "Epoch 93/100\n",
      "23/23 [==============================] - 9s 379ms/step - loss: 4.2670e-05 - val_loss: 5.4465e-04\n",
      "Epoch 94/100\n",
      "23/23 [==============================] - 9s 370ms/step - loss: 4.0363e-05 - val_loss: 4.3226e-04\n",
      "Epoch 95/100\n",
      "23/23 [==============================] - 9s 385ms/step - loss: 3.8140e-05 - val_loss: 9.1026e-04\n",
      "Epoch 96/100\n",
      "23/23 [==============================] - 8s 368ms/step - loss: 3.9980e-05 - val_loss: 4.3447e-04\n",
      "Epoch 97/100\n",
      "23/23 [==============================] - 9s 391ms/step - loss: 3.7900e-05 - val_loss: 5.2488e-04\n",
      "Epoch 98/100\n",
      "23/23 [==============================] - 8s 363ms/step - loss: 3.5594e-05 - val_loss: 0.0012\n",
      "Epoch 99/100\n",
      "23/23 [==============================] - 9s 384ms/step - loss: 4.0214e-05 - val_loss: 5.9167e-04\n",
      "Epoch 100/100\n",
      "23/23 [==============================] - 8s 368ms/step - loss: 3.3360e-05 - val_loss: 9.3591e-04\n"
     ]
    },
    {
     "data": {
      "text/plain": [
       "<keras.src.callbacks.History at 0x1a2753d39d0>"
      ]
     },
     "execution_count": 32,
     "metadata": {},
     "output_type": "execute_result"
    }
   ],
   "source": [
    "model.fit(X_train,y_train,validation_data=(X_test,ytest),epochs=100,batch_size=64,verbose=1)"
   ]
  },
  {
   "cell_type": "code",
   "execution_count": 33,
   "id": "fa07d4e3",
   "metadata": {},
   "outputs": [
    {
     "name": "stdout",
     "output_type": "stream",
     "text": [
      "45/45 [==============================] - 5s 79ms/step\n",
      "22/22 [==============================] - 2s 76ms/step\n"
     ]
    }
   ],
   "source": [
    "train_predict=model.predict(X_train)\n",
    "test_predict=model.predict(X_test)"
   ]
  },
  {
   "cell_type": "markdown",
   "id": "187f70c7",
   "metadata": {},
   "source": [
    "# Transformback to original form"
   ]
  },
  {
   "cell_type": "code",
   "execution_count": 34,
   "id": "a1aeb96f",
   "metadata": {},
   "outputs": [],
   "source": [
    "train_predict=scaler.inverse_transform(train_predict)\n",
    "test_predict=scaler.inverse_transform(test_predict)"
   ]
  },
  {
   "cell_type": "markdown",
   "id": "226a3240",
   "metadata": {},
   "source": [
    "# Calculate RMSE performance metrics"
   ]
  },
  {
   "cell_type": "code",
   "execution_count": 35,
   "id": "e77820b3",
   "metadata": {},
   "outputs": [
    {
     "data": {
      "text/plain": [
       "664.4928360404714"
      ]
     },
     "execution_count": 35,
     "metadata": {},
     "output_type": "execute_result"
    }
   ],
   "source": [
    "import math\n",
    "from sklearn.metrics import mean_squared_error\n",
    "math.sqrt(mean_squared_error(y_train,train_predict))"
   ]
  },
  {
   "cell_type": "markdown",
   "id": "027f1709",
   "metadata": {},
   "source": [
    "# Test Data RMSE"
   ]
  },
  {
   "cell_type": "code",
   "execution_count": 36,
   "id": "539cc87b",
   "metadata": {},
   "outputs": [
    {
     "data": {
      "text/plain": [
       "1578.7516271878785"
      ]
     },
     "execution_count": 36,
     "metadata": {},
     "output_type": "execute_result"
    }
   ],
   "source": [
    "math.sqrt(mean_squared_error(ytest,test_predict))"
   ]
  },
  {
   "cell_type": "markdown",
   "id": "15f151c6",
   "metadata": {},
   "source": [
    "# Plotting "
   ]
  },
  {
   "cell_type": "markdown",
   "id": "4ce945cc",
   "metadata": {},
   "source": [
    "# shift train predictions for plotting"
   ]
  },
  {
   "cell_type": "code",
   "execution_count": 37,
   "id": "56d0cae7",
   "metadata": {},
   "outputs": [
    {
     "data": {
      "image/png": "[encoded data removed]",
      "text/plain": [
       "<Figure size 640x480 with 1 Axes>"
      ]
     },
     "metadata": {},
     "output_type": "display_data"
    }
   ],
   "source": [
    "trainPredictPlot = np.empty_like(dfopen)\n",
    "trainPredictPlot[:, :] = np.nan\n",
    "trainPredictPlot[time_step:len(train_predict)+time_step, :] = train_predict\n",
    "# shift test predictions for plotting\n",
    "testPredictPlot = np.empty_like(dfopen)\n",
    "testPredictPlot[:, :] = np.nan\n",
    "testPredictPlot[len(train_predict)+(time_step*2)+1:len(dfopen)-1, :] = test_predict\n",
    "# plot baseline and predictions\n",
    "plt.plot(scaler.inverse_transform(dfopen))\n",
    "plt.plot(trainPredictPlot)\n",
    "plt.plot(testPredictPlot)\n",
    "plt.show()"
   ]
  },
  {
   "cell_type": "code",
   "execution_count": 38,
   "id": "d35fb35b",
   "metadata": {},
   "outputs": [
    {
     "data": {
      "text/plain": [
       "881"
      ]
     },
     "execution_count": 38,
     "metadata": {},
     "output_type": "execute_result"
    }
   ],
   "source": [
    "len(test_data)"
   ]
  },
  {
   "cell_type": "code",
   "execution_count": 39,
   "id": "614e3aec",
   "metadata": {},
   "outputs": [
    {
     "data": {
      "text/plain": [
       "(1, 200)"
      ]
     },
     "execution_count": 39,
     "metadata": {},
     "output_type": "execute_result"
    }
   ],
   "source": [
    "x_input=test_data[len(test_data)-time_step:].reshape(1,-1)\n",
    "x_input.shape"
   ]
  },
  {
   "cell_type": "code",
   "execution_count": 40,
   "id": "9358b25d",
   "metadata": {},
   "outputs": [],
   "source": [
    "temp_input=list(x_input)\n",
    "temp_input=temp_input[0].tolist()"
   ]
  },
  {
   "cell_type": "code",
   "execution_count": 41,
   "id": "18ae7a71",
   "metadata": {},
   "outputs": [
    {
     "data": {
      "text/plain": [
       "[0.5673719269033507,\n",
       " 0.5711455259977437,\n",
       " 0.5764549595461196,\n",
       " 0.5784323216979824,\n",
       " 0.5740134518754847,\n",
       " 0.5638813477410373,\n",
       " 0.5740058975074576,\n",
       " 0.5681153149815088,\n",
       " 0.5609077497678561,\n",
       " 0.5769040419893865,\n",
       " 0.5769794954806388,\n",
       " 0.580033844323481,\n",
       " 0.5774625271081585,\n",
       " 0.5864172705893147,\n",
       " 0.5961946786731238,\n",
       " 0.5963871360005369,\n",
       " 0.5943041017532339,\n",
       " 0.5909455895025862,\n",
       " 0.5916663597598523,\n",
       " 0.575738012699456,\n",
       " 0.5731946106834341,\n",
       " 0.5777002657379048,\n",
       " 0.573707814499873,\n",
       " 0.576900264616693,\n",
       " 0.5752512036992428,\n",
       " 0.5698436528008137,\n",
       " 0.5544964086800814,\n",
       " 0.5623907945893876,\n",
       " 0.5600058539238975,\n",
       " 0.5626058693603329,\n",
       " 0.5688832552274546,\n",
       " 0.5825267136966699,\n",
       " 0.5727983642878873,\n",
       " 0.5627643771261334,\n",
       " 0.5711115764361311,\n",
       " 0.55883227026594,\n",
       " 0.5503907309785824,\n",
       " 0.5645153327663304,\n",
       " 0.5825983898152287,\n",
       " 0.5818776195579627,\n",
       " 0.5697455354507603,\n",
       " 0.5639568012322895,\n",
       " 0.569632308987293,\n",
       " 0.5638096252072096,\n",
       " 0.5691153277981608,\n",
       " 0.599005991507811,\n",
       " 0.6241155345989383,\n",
       " 0.6232400799864742,\n",
       " 0.6326703003497632,\n",
       " 0.6206589049982374,\n",
       " 0.6182777877433497,\n",
       " 0.6037154356304153,\n",
       " 0.6045569870965356,\n",
       " 0.6073494134451153,\n",
       " 0.6333835162390021,\n",
       " 0.6901535187508153,\n",
       " 0.6886025291455096,\n",
       " 0.6890214390224975,\n",
       " 0.7025724001627907,\n",
       " 0.6922441073661455,\n",
       " 0.6981573077129863,\n",
       " 0.7001573337236502,\n",
       " 0.6966629771886432,\n",
       " 0.701987565888342,\n",
       " 0.7003422363056764,\n",
       " 0.7042629653872403,\n",
       " 0.7076139693077698,\n",
       " 0.6878893592941796,\n",
       " 0.6720440204704226,\n",
       " 0.6783911937697564,\n",
       " 0.6880591527627917,\n",
       " 0.6816704755338181,\n",
       " 0.6839346349904539,\n",
       " 0.691357274597692,\n",
       " 0.6879685901581254,\n",
       " 0.6714251445585435,\n",
       " 0.6901988460910574,\n",
       " 0.7007686088522334,\n",
       " 0.6890214390224975,\n",
       " 0.6896855962367097,\n",
       " 0.6905535425190557,\n",
       " 0.6946818376640869,\n",
       " 0.6861157862104504,\n",
       " 0.6924139008347576,\n",
       " 0.6912969302198538,\n",
       " 0.6856251998375438,\n",
       " 0.6784742480443047,\n",
       " 0.67839497114245,\n",
       " 0.6821157341891227,\n",
       " 0.6872743067929029,\n",
       " 0.6795157651679562,\n",
       " 0.6772704457821591,\n",
       " 0.6731270415237138,\n",
       " 0.684353452791624,\n",
       " 0.6849158073589072,\n",
       " 0.6995686300006903,\n",
       " 0.7203196476471582,\n",
       " 0.7465688252119903,\n",
       " 0.7479385975321455,\n",
       " 0.7674971910724573,\n",
       " 0.7594745156241787,\n",
       " 0.7630783212499596,\n",
       " 0.7612745299394023,\n",
       " 0.7664405648353917,\n",
       " 0.767127385531045,\n",
       " 0.7769462979218537,\n",
       " 0.7727877841726345,\n",
       " 0.7787915475015016,\n",
       " 0.7702481595293061,\n",
       " 0.7732594840594336,\n",
       " 0.7695764479470668,\n",
       " 0.7833349755281872,\n",
       " 0.7893991749333505,\n",
       " 0.8162464532376075,\n",
       " 0.8174483664360463,\n",
       " 0.8152445513572489,\n",
       " 0.814576617147703,\n",
       " 0.8021312945042333,\n",
       " 0.8016331537632996,\n",
       " 0.7949236836300315,\n",
       " 0.8135502091374656,\n",
       " 0.8040746614339345,\n",
       " 0.7727425489082103,\n",
       " 0.7613650925440687,\n",
       " 0.7611311773249247,\n",
       " 0.7727312171674897,\n",
       " 0.7793312382099838,\n",
       " 0.7897410652754621,\n",
       " 0.7623801684362257,\n",
       " 0.7863954047712501,\n",
       " 0.8007161948438359,\n",
       " 0.8010973321259687,\n",
       " 0.8210974073262515,\n",
       " 0.8183936088580824,\n",
       " 0.8274898619279185,\n",
       " 0.821837018031716,\n",
       " 0.8218521271451301,\n",
       " 0.8268748098040017,\n",
       " 0.811670964335656,\n",
       " 0.8220483618452367,\n",
       " 0.8329163453503641,\n",
       " 0.8437012289203943,\n",
       " 0.8510975201266756,\n",
       " 0.8490258179974529,\n",
       " 0.8606899795905496,\n",
       " 0.8563390088912771,\n",
       " 0.8627730134604928,\n",
       " 0.8607013113312701,\n",
       " 0.8552333700170939,\n",
       " 0.856610788781094,\n",
       " 0.8568711452317324,\n",
       " 0.8622296374551349,\n",
       " 0.8629843572740135,\n",
       " 0.866784397222541,\n",
       " 0.866056026559339,\n",
       " 0.8663805964589671,\n",
       " 0.8646635903803828,\n",
       " 0.8562186884388723,\n",
       " 0.8501522777046395,\n",
       " 0.8651692858667035,\n",
       " 0.8848674546487992,\n",
       " 0.8915958112681748,\n",
       " 0.8758145941949496,\n",
       " 0.8810560829595511,\n",
       " 0.8877655530928192,\n",
       " 0.8956750020776304,\n",
       " 0.9033731993247388,\n",
       " 0.9078901864972898,\n",
       " 0.9014071689135965,\n",
       " 0.8977430189099774,\n",
       " 0.889052409252153,\n",
       " 0.8949618322263004,\n",
       " 0.9090222662256077,\n",
       " 0.9287204350077035,\n",
       " 0.951286576082809,\n",
       " 0.9645771811498237,\n",
       " 0.9536412981441112,\n",
       " 0.937177866807647,\n",
       " 0.9306147893002868,\n",
       " 0.9304147772274868,\n",
       " 0.9343053801580407,\n",
       " 0.9361884023325436,\n",
       " 0.934520500966895,\n",
       " 0.9365317666424614,\n",
       " 0.9414676636920004,\n",
       " 0.9499998119992931,\n",
       " 0.9515356004153669,\n",
       " 0.9472337344290301,\n",
       " 0.9520978629068325,\n",
       " 0.9493997765356125,\n",
       " 0.9508413170501445,\n",
       " 0.942724302001866,\n",
       " 0.9302865341037833,\n",
       " 0.9424789625888238,\n",
       " 0.9569356429836778,\n",
       " 0.976143317468685,\n",
       " 0.9862527120837822,\n",
       " 0.9842565555216297,\n",
       " 0.9804376290869946,\n",
       " 0.9999999999999999]"
      ]
     },
     "execution_count": 41,
     "metadata": {},
     "output_type": "execute_result"
    }
   ],
   "source": [
    "temp_input"
   ]
  },
  {
   "cell_type": "code",
   "execution_count": null,
   "id": "848a7837",
   "metadata": {},
   "outputs": [],
   "source": []
  }
 ],
 "metadata": {
  "kernelspec": {
   "display_name": "Python 3 (ipykernel)",
   "language": "python",
   "name": "python3"
  },
  "language_info": {
   "codemirror_mode": {
    "name": "ipython",
    "version": 3
   },
   "file_extension": ".py",
   "mimetype": "text/x-python",
   "name": "python",
   "nbconvert_exporter": "python",
   "pygments_lexer": "ipython3",
   "version": "3.10.9"
  }
 },
 "nbformat": 4,
 "nbformat_minor": 5
}
