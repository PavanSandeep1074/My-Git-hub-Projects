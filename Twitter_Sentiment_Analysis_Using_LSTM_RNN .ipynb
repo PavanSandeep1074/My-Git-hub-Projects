{
 "cells": [
  {
   "cell_type": "code",
   "execution_count": 2,
   "id": "0d3928a1",
   "metadata": {},
   "outputs": [],
   "source": [
    "from tensorflow.keras.models import Sequential\n",
    "from tensorflow.keras.layers import LSTM, Dense, Embedding\n",
    "from tensorflow.keras.layers import Conv1D, Dropout, SpatialDropout1D\n",
    "from tensorflow.keras.layers import MaxPooling1D, GlobalMaxPooling1D\n",
    "from tensorflow.keras.preprocessing.text import Tokenizer\n",
    "from tensorflow.keras.preprocessing.sequence import pad_sequences\n",
    "from sklearn.model_selection import train_test_split\n",
    "from nltk.stem import WordNetLemmatizer\n",
    "from nltk.corpus import stopwords\n",
    "import pandas as pd\n",
    "import numpy as np\n",
    "import nltk\n",
    "import re"
   ]
  },
  {
   "cell_type": "code",
   "execution_count": 4,
   "id": "a95bee83",
   "metadata": {},
   "outputs": [
    {
     "name": "stdout",
     "output_type": "stream",
     "text": [
      "C:\\Users\\sande\\OneDrive\\Desktop\\New folder (2)\n"
     ]
    }
   ],
   "source": [
    "import io\n",
    "%cd \"C:\\Users\\sande\\OneDrive\\Desktop\\New folder (2)\""
   ]
  },
  {
   "cell_type": "code",
   "execution_count": 5,
   "id": "d5a0bf98",
   "metadata": {},
   "outputs": [],
   "source": [
    "df = pd.read_csv('twitter30k.csv')"
   ]
  },
  {
   "cell_type": "code",
   "execution_count": 6,
   "id": "cf8dc3d7",
   "metadata": {},
   "outputs": [],
   "source": [
    "X = df['twitts'].tolist()\n",
    "y = df['sentiment']"
   ]
  },
  {
   "cell_type": "code",
   "execution_count": 7,
   "id": "8f48da8b",
   "metadata": {},
   "outputs": [],
   "source": [
    "stop_words = stopwords.words('english')\n",
    "lemmatizer = WordNetLemmatizer()"
   ]
  },
  {
   "cell_type": "code",
   "execution_count": 8,
   "id": "05062c72",
   "metadata": {},
   "outputs": [],
   "source": [
    "x_train = []\n",
    "for sent in X:\n",
    "    sent = re.sub(\"[^a-zA-Z]\", \" \", sent)\n",
    "    sent = sent.lower().split()\n",
    "    sent = [lemmatizer.lemmatize(word) for word in sent if word not in set(stop_words)]\n",
    "    sent = \" \".join(sent)\n",
    "    x_train.append(sent)"
   ]
  },
  {
   "cell_type": "code",
   "execution_count": 9,
   "id": "cbd6904b",
   "metadata": {},
   "outputs": [],
   "source": [
    "tokenizer = Tokenizer()\n",
    "tokenizer.fit_on_texts(x_train)"
   ]
  },
  {
   "cell_type": "code",
   "execution_count": 10,
   "id": "def1575e",
   "metadata": {},
   "outputs": [],
   "source": [
    "vocab_size = len(tokenizer.word_index) + 1 "
   ]
  },
  {
   "cell_type": "code",
   "execution_count": 11,
   "id": "321d3487",
   "metadata": {},
   "outputs": [],
   "source": [
    "encoded_texts = tokenizer.texts_to_sequences(x_train)"
   ]
  },
  {
   "cell_type": "code",
   "execution_count": 12,
   "id": "21d680ba",
   "metadata": {},
   "outputs": [],
   "source": [
    "testing_list = []\n",
    "for l in x_train:\n",
    "    testing_list.append(len(l.split(' ')))\n",
    "max_sentence_length = max(testing_list)"
   ]
  },
  {
   "cell_type": "code",
   "execution_count": 13,
   "id": "e8e8cac9",
   "metadata": {},
   "outputs": [],
   "source": [
    "padded_X = pad_sequences(encoded_texts, maxlen=max_sentence_length, padding='post', truncating='post')"
   ]
  },
  {
   "cell_type": "code",
   "execution_count": 14,
   "id": "23669271",
   "metadata": {},
   "outputs": [],
   "source": [
    "X_train, X_test, y_train, y_test = train_test_split(padded_X, y, test_size=0.15, random_state=42)"
   ]
  },
  {
   "cell_type": "code",
   "execution_count": 15,
   "id": "7ed5cb74",
   "metadata": {},
   "outputs": [],
   "source": [
    "embedding_features = 300"
   ]
  },
  {
   "cell_type": "code",
   "execution_count": 16,
   "id": "73bf9f4c",
   "metadata": {},
   "outputs": [],
   "source": [
    "model = Sequential()\n",
    "model.add(Embedding(vocab_size, embedding_features, input_length=max_sentence_length))\n",
    "model.add(SpatialDropout1D(0.4))\n",
    "model.add(LSTM(64, recurrent_activation='relu', recurrent_dropout=0.2, return_sequences=True))\n",
    "model.add(LSTM(32, recurrent_activation='relu', recurrent_dropout=0.2))\n",
    "model.add(Dense(1, activation='sigmoid'))"
   ]
  },
  {
   "cell_type": "code",
   "execution_count": 17,
   "id": "925afa7f",
   "metadata": {},
   "outputs": [],
   "source": [
    "model.compile(optimizer='adam', loss='binary_crossentropy', metrics=['accuracy'])"
   ]
  },
  {
   "cell_type": "code",
   "execution_count": 18,
   "id": "4b43bc6a",
   "metadata": {},
   "outputs": [
    {
     "name": "stdout",
     "output_type": "stream",
     "text": [
      "Epoch 1/10\n",
      "797/797 [==============================] - 113s 134ms/step - loss: 0.6932 - accuracy: 0.4995 - val_loss: 0.6932 - val_accuracy: 0.4987\n",
      "Epoch 2/10\n",
      "797/797 [==============================] - 105s 132ms/step - loss: 0.6932 - accuracy: 0.4991 - val_loss: 0.6932 - val_accuracy: 0.4987\n",
      "Epoch 3/10\n",
      "797/797 [==============================] - 106s 133ms/step - loss: 0.6932 - accuracy: 0.4949 - val_loss: 0.6932 - val_accuracy: 0.4987\n",
      "Epoch 4/10\n",
      "797/797 [==============================] - 106s 132ms/step - loss: 0.6932 - accuracy: 0.4989 - val_loss: 0.6931 - val_accuracy: 0.5013\n",
      "Epoch 5/10\n",
      "797/797 [==============================] - 107s 134ms/step - loss: 0.6932 - accuracy: 0.5028 - val_loss: 0.6932 - val_accuracy: 0.5013\n",
      "Epoch 6/10\n",
      "797/797 [==============================] - 106s 133ms/step - loss: 0.6932 - accuracy: 0.5009 - val_loss: 0.6932 - val_accuracy: 0.4987\n",
      "Epoch 7/10\n",
      "797/797 [==============================] - 106s 133ms/step - loss: 0.6932 - accuracy: 0.5020 - val_loss: 0.6931 - val_accuracy: 0.5013\n",
      "Epoch 8/10\n",
      "797/797 [==============================] - 107s 135ms/step - loss: 0.6932 - accuracy: 0.4962 - val_loss: 0.6931 - val_accuracy: 0.5013\n",
      "Epoch 9/10\n",
      "797/797 [==============================] - 106s 133ms/step - loss: 0.6932 - accuracy: 0.5007 - val_loss: 0.6931 - val_accuracy: 0.5013\n",
      "Epoch 10/10\n",
      "797/797 [==============================] - 111s 139ms/step - loss: 0.6932 - accuracy: 0.4984 - val_loss: 0.6932 - val_accuracy: 0.4987\n"
     ]
    }
   ],
   "source": [
    "hist = model.fit(X_train, y_train, batch_size=32, epochs=10, verbose=1, validation_data=(X_test, y_test))"
   ]
  },
  {
   "cell_type": "code",
   "execution_count": null,
   "id": "75f12adf",
   "metadata": {},
   "outputs": [],
   "source": []
  }
 ],
 "metadata": {
  "kernelspec": {
   "display_name": "Python 3 (ipykernel)",
   "language": "python",
   "name": "python3"
  },
  "language_info": {
   "codemirror_mode": {
    "name": "ipython",
    "version": 3
   },
   "file_extension": ".py",
   "mimetype": "text/x-python",
   "name": "python",
   "nbconvert_exporter": "python",
   "pygments_lexer": "ipython3",
   "version": "3.10.9"
  }
 },
 "nbformat": 4,
 "nbformat_minor": 5
}
